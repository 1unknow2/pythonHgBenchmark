{
 "cells": [
  {
   "cell_type": "code",
   "execution_count": 3,
   "metadata": {},
   "outputs": [],
   "source": [
    "import xarray as xr\n",
    "import matplotlib.pyplot as plt\n",
    "import cartopy.crs as ccrs\n",
    "import numpy as np\n",
    "import pandas as pd\n",
    "import xbpch\n",
    "import cartopy.crs as ccrs\n",
    "from matplotlib import colorbar, colors\n",
    "import statistics\n",
    "from sklearn.metrics import r2_score\n",
    "%matplotlib inline\n",
    "\n",
    "from GeneralGraph import GeneralHgMeanSurface\n",
    "from MeanSurfaceTGM import HgMeanSurfaceTGM\n",
    "from PlotSeasonSites import PlotSeasonSites\n",
    "from TGMAndObs import SurfaceObsTGM\n",
    "from Latitudinal_Graphs import LatitudinalGraphs\n",
    "from SiteLevels import levels"
   ]
  },
  {
   "cell_type": "code",
   "execution_count": null,
   "metadata": {},
   "outputs": [],
   "source": [
    "#OLD=None\n",
    "#NEW=None\n",
    "\n",
    "\n",
    "# Name the xbpch files for the reference and new models\n",
    "OLD = '/home/brittany/Documents/HG/pythonHgBenchmark/trac_avg.geosfp_2x25_Hg.v12-01.bpch'\n",
    "NEW = '/home/brittany/Documents/HG/pythonHgBenchmark/trac_avg.geosfp_2x25_Hg.v12-01.new.bpch'\n",
    "\n",
    "\n",
    "if OLD is None or NEW is None :\n",
    "    print (\"Please enter the path file to the bpch file for the model data.\")\n",
    "    \n",
    "else :\n",
    "    # Upload/open the data from the models \n",
    "    OLD_ds = (xbpch.open_bpchdataset(OLD))\n",
    "    NEW_ds = (xbpch.open_bpchdataset(NEW))\n",
    "    \n",
    "    "
   ]
  },
  {
   "cell_type": "code",
   "execution_count": null,
   "metadata": {},
   "outputs": [],
   "source": [
    "PlotSeasonSites(OLD_ds, NEW_ds)"
   ]
  },
  {
   "cell_type": "code",
   "execution_count": null,
   "metadata": {},
   "outputs": [],
   "source": [
    "SurfaceObsTGM(OLD_ds, NEW_ds)"
   ]
  },
  {
   "cell_type": "code",
   "execution_count": null,
   "metadata": {},
   "outputs": [],
   "source": [
    "HgMeanSurfaceTGM(Dataset_OLD=OLD_ds,Dataset_NEW= NEW_ds)"
   ]
  },
  {
   "cell_type": "code",
   "execution_count": null,
   "metadata": {},
   "outputs": [],
   "source": [
    "GeneralHgMeanSurface(Dataset_OLD=OLD_ds,Dataset_NEW= NEW_ds,  Variable=['IJ_AVG_S_Hg0', 'IJ_AVG_S_Hg2'], \n",
    "                      Units=\"$ng/m^2$\", Unit_Conversion=8.93, Title=\"Surface TGM\")"
   ]
  },
  {
   "cell_type": "code",
   "execution_count": null,
   "metadata": {},
   "outputs": [],
   "source": [
    "LatitudinalGraphs(OLD_ds, NEW_ds)\n"
   ]
  },
  {
   "cell_type": "code",
   "execution_count": 7,
   "metadata": {},
   "outputs": [
    {
     "name": "stdout",
     "output_type": "stream",
     "text": [
      "Help on function HgMeanSurfaceTGM in module MeanSurfaceTGM:\n",
      "\n",
      "HgMeanSurfaceTGM(Dataset_OLD, Dataset_NEW, Variable=['IJ_AVG_S_Hg0', 'IJ_AVG_S_Hg2'], Units='$ng/m^2$', Unit_Conversion=8.93, Title='Surface TGM')\n",
      "    Plot the mean surface TGM for mercuryfor both the reference and new models. \n",
      "    Produce the absolute and percent differences for the reference and new models.\n",
      "    \n",
      "    \n",
      "    **Note: This function can also be used in much the same way as the General Graphing Function, if only the \n",
      "    datasets are specified as everything else needed for this function is specified in it's default values.\n",
      "    \n",
      "    Args:\n",
      "    Dataset_OLD (str) : Reference Model bpch file\n",
      "    Dataset_NEW (str) : New Model bpch file \n",
      "    Variable (str) : Names of the variable/s you are choosing to take the mean over time with e.g.\n",
      "    ['Variable 1', 'Variable 2', etc]. \n",
      "    Units (str) : Name of the units the data is in.\n",
      "    Unit_Conversion (float) : Conversion factor that converts your data to your preferred unit.\n",
      "    Title (str) : Title of your graph.\n",
      "\n"
     ]
    }
   ],
   "source": [
    "help (HgMeanSurfaceTGM\n",
    "     )"
   ]
  },
  {
   "cell_type": "code",
   "execution_count": null,
   "metadata": {},
   "outputs": [],
   "source": []
  }
 ],
 "metadata": {
  "kernelspec": {
   "display_name": "Python 3",
   "language": "python",
   "name": "python3"
  },
  "language_info": {
   "codemirror_mode": {
    "name": "ipython",
    "version": 3
   },
   "file_extension": ".py",
   "mimetype": "text/x-python",
   "name": "python",
   "nbconvert_exporter": "python",
   "pygments_lexer": "ipython3",
   "version": "3.6.7"
  }
 },
 "nbformat": 4,
 "nbformat_minor": 2
}
