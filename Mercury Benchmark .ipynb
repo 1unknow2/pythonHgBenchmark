{
 "cells": [
  {
   "cell_type": "code",
   "execution_count": 4,
   "metadata": {},
   "outputs": [],
   "source": [
    "import xbpch\n",
    "from GeneralGraph import GeneralHgMeanSurface\n",
    "from MeanSurfaceTGM import HgMeanSurfaceTGM\n",
    "from PlotSeasonSites import PlotSeasonSites\n",
    "from TGMAndObs import SurfaceObsTGM\n",
    "from Latitudinal_Graphs import LatitudinalGraphs\n",
    "from SiteLevels import levels\n",
    "%matplotlib inline    "
   ]
  },
  {
   "cell_type": "code",
   "execution_count": 6,
   "metadata": {},
   "outputs": [
    {
     "name": "stdout",
     "output_type": "stream",
     "text": [
      "Please enter the path file to the bpch file for the model data.\n"
     ]
    }
   ],
   "source": [
    "# Please enter the path file to the bpch files for the reference model data. \n",
    "\n",
    "OLD= None\n",
    "\n",
    "# If necessary specify the path to your tracer/diag_info.dat files here for your reference model. If you don't the \n",
    "# program will just use the default. \n",
    "Tracer_Info_Old= None\n",
    "Diag_Info_Old= None \n",
    "\n",
    "# Please enter the path file to the bpch files for the new model data. \n",
    "\n",
    "NEW= None\n",
    "\n",
    "# If necessary specify the path to your tracer/diag_info.dat files here for your new model. If you don't the \n",
    "# program will just use the default. \n",
    "Tracer_Info_New= None\n",
    "Diag_Info_New= None\n",
    "\n",
    "\n",
    "\n",
    "if OLD is None or NEW is None:\n",
    "    print (\"Please enter the path file to the bpch file for the model data.\")\n",
    "    \n",
    "else :\n",
    "    # Upload/open the data from the models \n",
    "    OLD_ds = (xbpch.open_bpchdataset(OLD, tracerinfo_file=Tracer_Info_Old, diaginfo_file=Diag_Info_Old))\n",
    "    NEW_ds = (xbpch.open_bpchdataset(NEW, tracerinfo_file=Tracer_Info_New, diaginfo_file=Diag_Info_New))\n",
    "    \n",
    "    "
   ]
  },
  {
   "cell_type": "code",
   "execution_count": null,
   "metadata": {},
   "outputs": [],
   "source": [
    "SurfaceObsTGM(OLD_ds, NEW_ds)"
   ]
  },
  {
   "cell_type": "code",
   "execution_count": null,
   "metadata": {},
   "outputs": [],
   "source": [
    "HgMeanSurfaceTGM(Dataset_OLD=OLD_ds,Dataset_NEW= NEW_ds)"
   ]
  },
  {
   "cell_type": "code",
   "execution_count": null,
   "metadata": {},
   "outputs": [],
   "source": [
    "GeneralHgMeanSurface(Dataset_OLD=OLD_ds,Dataset_NEW= NEW_ds,  Variable=['IJ_AVG_S_Hg0', 'IJ_AVG_S_Hg2'], \n",
    "                      Units=\"$ng/m^2$\", Unit_Conversion=8.93, Title=\"Surface TGM\")"
   ]
  },
  {
   "cell_type": "code",
   "execution_count": null,
   "metadata": {},
   "outputs": [],
   "source": [
    "LatitudinalGraphs(OLD_ds, NEW_ds)\n"
   ]
  },
  {
   "cell_type": "code",
   "execution_count": null,
   "metadata": {},
   "outputs": [],
   "source": [
    "PlotSeasonSites(OLD_ds, NEW_ds)"
   ]
  },
  {
   "cell_type": "code",
   "execution_count": null,
   "metadata": {},
   "outputs": [],
   "source": []
  }
 ],
 "metadata": {
  "kernelspec": {
   "display_name": "Python 3",
   "language": "python",
   "name": "python3"
  },
  "language_info": {
   "codemirror_mode": {
    "name": "ipython",
    "version": 3
   },
   "file_extension": ".py",
   "mimetype": "text/x-python",
   "name": "python",
   "nbconvert_exporter": "python",
   "pygments_lexer": "ipython3",
   "version": "3.8.8"
  }
 },
 "nbformat": 4,
 "nbformat_minor": 2
}
