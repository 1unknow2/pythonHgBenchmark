{
 "cells": [
  {
   "cell_type": "code",
   "execution_count": 1,
   "metadata": {},
   "outputs": [
    {
     "name": "stderr",
     "output_type": "stream",
     "text": [
      "/home/brittany/anaconda3/envs/geoschem/lib/python3.6/importlib/_bootstrap.py:219: RuntimeWarning: numpy.dtype size changed, may indicate binary incompatibility. Expected 96, got 88\n",
      "  return f(*args, **kwds)\n",
      "/home/brittany/anaconda3/envs/geoschem/lib/python3.6/importlib/_bootstrap.py:219: RuntimeWarning: numpy.dtype size changed, may indicate binary incompatibility. Expected 96, got 88\n",
      "  return f(*args, **kwds)\n"
     ]
    }
   ],
   "source": [
    "import argparse\n",
    "import xarray as xr\n",
    "import matplotlib.pyplot as plt\n",
    "import cartopy.crs as ccrs\n",
    "import numpy as np\n",
    "import pandas as pd\n",
    "from datetime import datetime\n",
    "from matplotlib.backends.backend_pdf import PdfPages\n",
    "import xbpch\n",
    "from glob import glob\n",
    "import cartopy.feature as cfeature\n",
    "from dask.diagnostics import ProgressBar\n",
    "from matplotlib import colorbar, colors"
   ]
  },
  {
   "cell_type": "code",
   "execution_count": 2,
   "metadata": {},
   "outputs": [
    {
     "name": "stderr",
     "output_type": "stream",
     "text": [
      "/home/brittany/anaconda3/envs/geoschem/lib/python3.6/site-packages/pandas/io/parsers.py:710: UserWarning: Duplicate names specified. This will raise an error in the future.\n",
      "  return _read(filepath_or_buffer, kwds)\n"
     ]
    }
   ],
   "source": [
    "# Name the xbpch files for the reference and new models\n",
    "OLD = '/home/brittany/Documents/HG/pythonHgBenchmark/trac_avg.geosfp_2x25_Hg.v12-01.bpch'\n",
    "NEW = '/home/brittany/Documents/HG/pythonHgBenchmark/trac_avg.geosfp_2x25_Hg.v12-01.new.bpch'\n",
    "COL_OLD= '/home/brittany/Documents/HG/pythonHg/horowitz17.bpch'\n",
    "COL_NEW= '/home/brittany/Documents/HG/pythonHg/v11-02.bpch'\n",
    "\n",
    "\n",
    "# Upload/open the data from the models \n",
    "OLD_ds = (xbpch.open_bpchdataset(OLD))\n",
    "NEW_ds = (xbpch.open_bpchdataset(NEW))\n"
   ]
  },
  {
   "cell_type": "code",
   "execution_count": 5,
   "metadata": {},
   "outputs": [],
   "source": [
    "COLD_ds = (xbpch.open_bpchdataset(COL_OLD,\n",
    "           tracerinfo_file='/home/brittany/Documents/HG/pythonHg/tracerinfo.horowitz17.dat',\n",
    "           diaginfo_file='/home/brittany/Documents/HG/pythonHg/diaginfo.horowitz17.dat'))\n",
    "\n",
    "CNEW_ds = (xbpch.open_bpchdataset(COL_NEW, tracerinfo_file='/home/brittany/Documents/HG/pythonHg/tracerinfo.dat',\n",
    "           diaginfo_file='/home/brittany/Documents/HG/pythonHg/diaginfo.dat'))"
   ]
  },
  {
   "cell_type": "code",
   "execution_count": null,
   "metadata": {},
   "outputs": [],
   "source": []
  }
 ],
 "metadata": {
  "kernelspec": {
   "display_name": "Python 3",
   "language": "python",
   "name": "python3"
  },
  "language_info": {
   "codemirror_mode": {
    "name": "ipython",
    "version": 3
   },
   "file_extension": ".py",
   "mimetype": "text/x-python",
   "name": "python",
   "nbconvert_exporter": "python",
   "pygments_lexer": "ipython3",
   "version": "3.6.7"
  }
 },
 "nbformat": 4,
 "nbformat_minor": 2
}
