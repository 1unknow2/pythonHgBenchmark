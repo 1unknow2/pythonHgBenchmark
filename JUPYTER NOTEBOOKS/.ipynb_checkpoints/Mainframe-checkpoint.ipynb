{
 "cells": [
  {
   "cell_type": "code",
   "execution_count": 2,
   "metadata": {},
   "outputs": [
    {
     "name": "stderr",
     "output_type": "stream",
     "text": [
      "/home/brittany/anaconda3/envs/geoschem/lib/python3.6/importlib/_bootstrap.py:219: RuntimeWarning: numpy.dtype size changed, may indicate binary incompatibility. Expected 96, got 88\n",
      "  return f(*args, **kwds)\n",
      "/home/brittany/anaconda3/envs/geoschem/lib/python3.6/importlib/_bootstrap.py:219: RuntimeWarning: numpy.dtype size changed, may indicate binary incompatibility. Expected 96, got 88\n",
      "  return f(*args, **kwds)\n"
     ]
    },
    {
     "ename": "ModuleNotFoundError",
     "evalue": "No module named 'GeneralGraph'",
     "output_type": "error",
     "traceback": [
      "\u001b[0;31m---------------------------------------------------------------------------\u001b[0m",
      "\u001b[0;31mModuleNotFoundError\u001b[0m                       Traceback (most recent call last)",
      "\u001b[0;32m<ipython-input-2-43ef83df9474>\u001b[0m in \u001b[0;36m<module>\u001b[0;34m\u001b[0m\n\u001b[1;32m     11\u001b[0m \u001b[0mget_ipython\u001b[0m\u001b[0;34m(\u001b[0m\u001b[0;34m)\u001b[0m\u001b[0;34m.\u001b[0m\u001b[0mrun_line_magic\u001b[0m\u001b[0;34m(\u001b[0m\u001b[0;34m'matplotlib'\u001b[0m\u001b[0;34m,\u001b[0m \u001b[0;34m'inline'\u001b[0m\u001b[0;34m)\u001b[0m\u001b[0;34m\u001b[0m\u001b[0;34m\u001b[0m\u001b[0m\n\u001b[1;32m     12\u001b[0m \u001b[0;34m\u001b[0m\u001b[0m\n\u001b[0;32m---> 13\u001b[0;31m \u001b[0;32mfrom\u001b[0m \u001b[0mGeneralGraph\u001b[0m \u001b[0;32mimport\u001b[0m \u001b[0mGeneralHgMeanSurface\u001b[0m\u001b[0;34m\u001b[0m\u001b[0;34m\u001b[0m\u001b[0m\n\u001b[0m\u001b[1;32m     14\u001b[0m \u001b[0;32mfrom\u001b[0m \u001b[0mMeanSurfaceTGM\u001b[0m \u001b[0;32mimport\u001b[0m \u001b[0mHgMeanSurfaceTGM\u001b[0m\u001b[0;34m\u001b[0m\u001b[0;34m\u001b[0m\u001b[0m\n\u001b[1;32m     15\u001b[0m \u001b[0;32mfrom\u001b[0m \u001b[0mPlotSeasonSites\u001b[0m \u001b[0;32mimport\u001b[0m \u001b[0mPlotSeasonSites\u001b[0m\u001b[0;34m\u001b[0m\u001b[0;34m\u001b[0m\u001b[0m\n",
      "\u001b[0;31mModuleNotFoundError\u001b[0m: No module named 'GeneralGraph'"
     ]
    }
   ],
   "source": [
    "import xarray as xr\n",
    "import matplotlib.pyplot as plt\n",
    "import cartopy.crs as ccrs\n",
    "import numpy as np\n",
    "import pandas as pd\n",
    "import xbpch\n",
    "import cartopy.crs as ccrs\n",
    "from matplotlib import colorbar, colors\n",
    "import statistics\n",
    "from sklearn.metrics import r2_score\n",
    "%matplotlib inline\n",
    "\n",
    "from GeneralGraph import GeneralHgMeanSurface\n",
    "from MeanSurfaceTGM import HgMeanSurfaceTGM\n",
    "from PlotSeasonSites import PlotSeasonSites\n",
    "from TGMAndObs import SurfaceObsTGM\n",
    "from Latitudinal_Graphs import LatitudinalGraphs\n",
    "from SiteLevels import levels"
   ]
  },
  {
   "cell_type": "code",
   "execution_count": 1,
   "metadata": {},
   "outputs": [
    {
     "name": "stdout",
     "output_type": "stream",
     "text": [
      "Please enter the path file to the bpch file for the model data.\n"
     ]
    }
   ],
   "source": [
    "OLD=None\n",
    "\n",
    "NEW=None\n",
    "\n",
    "\n",
    "\n",
    "# Name the xbpch files for the reference and new models\n",
    "# OLD = '/home/brittany/Documents/HG/pythonHgBenchmark/trac_avg.geosfp_2x25_Hg.v12-01.bpch'\n",
    "# NEW = '/home/brittany/Documents/HG/pythonHgBenchmark/trac_avg.geosfp_2x25_Hg.v12-01.new.bpch'\n",
    "\n",
    "if OLD is None or NEW is None :\n",
    "    print (\"Please enter the path file to the bpch file for the model data.\")\n",
    "    \n",
    "else :\n",
    "    # Upload/open the data from the models \n",
    "    OLD_ds = (xbpch.open_bpchdataset(OLD))\n",
    "    NEW_ds = (xbpch.open_bpchdataset(NEW))\n",
    "    \n",
    "    "
   ]
  },
  {
   "cell_type": "code",
   "execution_count": null,
   "metadata": {},
   "outputs": [],
   "source": [
    "PlotSeasonSites(OLD_ds, NEW_ds)"
   ]
  },
  {
   "cell_type": "code",
   "execution_count": null,
   "metadata": {},
   "outputs": [],
   "source": [
    "SurfaceObsTGM(OLD_ds, NEW_ds)"
   ]
  },
  {
   "cell_type": "code",
   "execution_count": null,
   "metadata": {},
   "outputs": [],
   "source": [
    "HgMeanSurfaceTGM(Dataset_OLD=OLD_ds,Dataset_NEW= NEW_ds)"
   ]
  },
  {
   "cell_type": "code",
   "execution_count": null,
   "metadata": {},
   "outputs": [],
   "source": [
    "GeneralHgMeanSurface(Dataset_OLD=OLD_ds,Dataset_NEW= NEW_ds,  Variable=['IJ_AVG_S_Hg0', 'IJ_AVG_S_Hg2'], \n",
    "                      Units=\"$ng/m^2$\", Unit_Conversion=8.93, Title=\"Surface TGM\")"
   ]
  },
  {
   "cell_type": "code",
   "execution_count": null,
   "metadata": {},
   "outputs": [],
   "source": [
    "LatitudinalGraphs(OLD_ds, NEW_ds)"
   ]
  }
 ],
 "metadata": {
  "kernelspec": {
   "display_name": "Python 3",
   "language": "python",
   "name": "python3"
  },
  "language_info": {
   "codemirror_mode": {
    "name": "ipython",
    "version": 3
   },
   "file_extension": ".py",
   "mimetype": "text/x-python",
   "name": "python",
   "nbconvert_exporter": "python",
   "pygments_lexer": "ipython3",
   "version": "3.6.7"
  }
 },
 "nbformat": 4,
 "nbformat_minor": 2
}
